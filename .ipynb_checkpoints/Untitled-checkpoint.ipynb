{
 "cells": [
  {
   "cell_type": "code",
   "execution_count": 1,
   "metadata": {
    "collapsed": false
   },
   "outputs": [
    {
     "name": "stdout",
     "output_type": "stream",
     "text": [
      "pygame 1.9.4\n",
      "Hello from the pygame community. https://www.pygame.org/contribute.html\n"
     ]
    }
   ],
   "source": [
    "import os\n",
    "import csv\n",
    "import math\n",
    "import random\n",
    "import numpy as np\n",
    "from psychopy import visual, core, event, gui, monitors, misc"
   ]
  },
  {
   "cell_type": "code",
   "execution_count": 2,
   "metadata": {
    "collapsed": true
   },
   "outputs": [],
   "source": [
    "MONITOR_WIDTH = 30.48  # The width of the display on your monitor\n",
    "MONITOR_DISTANCE = 65  # The veiwing distance from the user to the monitor\n",
    "MONITOR_RESOLUTION = [1440, 900]  # The resolution of your monitor display\n",
    "# Build the monitor with correct sizing for psychopy to calculate visual degrees\n",
    "mon = monitors.Monitor('testMonitor')\n",
    "mon.setDistance(MONITOR_DISTANCE)  # Measure first to ensure this is correct\n",
    "mon.setWidth(MONITOR_WIDTH)  # Measure first to ensure this is correct\n",
    "mon.setSizePix(MONITOR_RESOLUTION)"
   ]
  },
  {
   "cell_type": "code",
   "execution_count": 3,
   "metadata": {
    "collapsed": true
   },
   "outputs": [],
   "source": [
    "def pol2cart(rho, phi):\n",
    "    x = rho * np.cos(phi)\n",
    "    y = rho * np.sin(phi)\n",
    "    return(x, y)"
   ]
  },
  {
   "cell_type": "code",
   "execution_count": 4,
   "metadata": {
    "collapsed": false
   },
   "outputs": [
    {
     "ename": "ValueError",
     "evalue": "Monitor __blank__ has no known size in pixels (SEE MONITOR CENTER)",
     "output_type": "error",
     "traceback": [
      "\u001b[0;31m---------------------------------------------------------------------------\u001b[0m",
      "\u001b[0;31mValueError\u001b[0m                                Traceback (most recent call last)",
      "\u001b[0;32m<ipython-input-4-c50d6103b477>\u001b[0m in \u001b[0;36m<module>\u001b[0;34m()\u001b[0m\n\u001b[1;32m     32\u001b[0m stim = visual.ShapeStim(win, units = 'deg',vertices = tuple(zip(circ_X,circ_Y)),\n\u001b[1;32m     33\u001b[0m                        lineColor='white',lineColorSpace='rgb', lineWidth = 1.5)\n\u001b[0;32m---> 34\u001b[0;31m \u001b[0mstim\u001b[0m\u001b[0;34m.\u001b[0m\u001b[0mdraw\u001b[0m\u001b[0;34m(\u001b[0m\u001b[0;34m)\u001b[0m\u001b[0;34m\u001b[0m\u001b[0m\n\u001b[0m\u001b[1;32m     35\u001b[0m \u001b[0mwin\u001b[0m\u001b[0;34m.\u001b[0m\u001b[0mflip\u001b[0m\u001b[0;34m(\u001b[0m\u001b[0;34m)\u001b[0m\u001b[0;34m\u001b[0m\u001b[0m\n",
      "\u001b[0;32m/Users/supadhy6/anaconda/envs/pbs-stats/lib/python3.5/site-packages/psychopy/visual/shape.py\u001b[0m in \u001b[0;36mdraw\u001b[0;34m(self, win, keepMatrix)\u001b[0m\n\u001b[1;32m    567\u001b[0m         \u001b[0;31m# fill interior triangles if there are any\u001b[0m\u001b[0;34m\u001b[0m\u001b[0;34m\u001b[0m\u001b[0m\n\u001b[1;32m    568\u001b[0m         if (self.closeShape and\n\u001b[0;32m--> 569\u001b[0;31m                 \u001b[0mself\u001b[0m\u001b[0;34m.\u001b[0m\u001b[0mverticesPix\u001b[0m\u001b[0;34m.\u001b[0m\u001b[0mshape\u001b[0m\u001b[0;34m[\u001b[0m\u001b[0;36m0\u001b[0m\u001b[0;34m]\u001b[0m \u001b[0;34m>\u001b[0m \u001b[0;36m2\u001b[0m \u001b[0;32mand\u001b[0m\u001b[0;34m\u001b[0m\u001b[0m\n\u001b[0m\u001b[1;32m    570\u001b[0m                 self.fillRGB is not None):\n\u001b[1;32m    571\u001b[0m             \u001b[0mGL\u001b[0m\u001b[0;34m.\u001b[0m\u001b[0mglVertexPointer\u001b[0m\u001b[0;34m(\u001b[0m\u001b[0;36m2\u001b[0m\u001b[0;34m,\u001b[0m \u001b[0mGL\u001b[0m\u001b[0;34m.\u001b[0m\u001b[0mGL_DOUBLE\u001b[0m\u001b[0;34m,\u001b[0m \u001b[0;36m0\u001b[0m\u001b[0;34m,\u001b[0m \u001b[0mself\u001b[0m\u001b[0;34m.\u001b[0m\u001b[0mverticesPix\u001b[0m\u001b[0;34m.\u001b[0m\u001b[0mctypes\u001b[0m\u001b[0;34m)\u001b[0m\u001b[0;34m\u001b[0m\u001b[0m\n",
      "\u001b[0;32m/Users/supadhy6/anaconda/envs/pbs-stats/lib/python3.5/site-packages/psychopy/visual/shape.py\u001b[0m in \u001b[0;36mverticesPix\u001b[0;34m(self)\u001b[0m\n\u001b[1;32m    522\u001b[0m         \u001b[0;31m# needs updating :-)\u001b[0m\u001b[0;34m\u001b[0m\u001b[0;34m\u001b[0m\u001b[0m\n\u001b[1;32m    523\u001b[0m         \u001b[0;32mif\u001b[0m \u001b[0mself\u001b[0m\u001b[0;34m.\u001b[0m\u001b[0m_needVertexUpdate\u001b[0m\u001b[0;34m:\u001b[0m\u001b[0;34m\u001b[0m\u001b[0m\n\u001b[0;32m--> 524\u001b[0;31m             \u001b[0mself\u001b[0m\u001b[0;34m.\u001b[0m\u001b[0m_updateVertices\u001b[0m\u001b[0;34m(\u001b[0m\u001b[0;34m)\u001b[0m\u001b[0;34m\u001b[0m\u001b[0m\n\u001b[0m\u001b[1;32m    525\u001b[0m         \u001b[0;32mreturn\u001b[0m \u001b[0mself\u001b[0m\u001b[0;34m.\u001b[0m\u001b[0m__dict__\u001b[0m\u001b[0;34m[\u001b[0m\u001b[0;34m'verticesPix'\u001b[0m\u001b[0;34m]\u001b[0m\u001b[0;34m\u001b[0m\u001b[0m\n\u001b[1;32m    526\u001b[0m \u001b[0;34m\u001b[0m\u001b[0m\n",
      "\u001b[0;32m/Users/supadhy6/anaconda/envs/pbs-stats/lib/python3.5/site-packages/psychopy/visual/basevisual.py\u001b[0m in \u001b[0;36m_updateVertices\u001b[0;34m(self)\u001b[0m\n\u001b[1;32m    514\u001b[0m             \u001b[0mverts\u001b[0m \u001b[0;34m=\u001b[0m \u001b[0mnumpy\u001b[0m\u001b[0;34m.\u001b[0m\u001b[0mdot\u001b[0m\u001b[0;34m(\u001b[0m\u001b[0mself\u001b[0m\u001b[0;34m.\u001b[0m\u001b[0msize\u001b[0m \u001b[0;34m*\u001b[0m \u001b[0mverts\u001b[0m \u001b[0;34m*\u001b[0m \u001b[0mflip\u001b[0m\u001b[0;34m,\u001b[0m \u001b[0mself\u001b[0m\u001b[0;34m.\u001b[0m\u001b[0m_rotationMatrix\u001b[0m\u001b[0;34m)\u001b[0m\u001b[0;34m\u001b[0m\u001b[0m\n\u001b[1;32m    515\u001b[0m         verts = convertToPix(vertices=verts, pos=self.pos,\n\u001b[0;32m--> 516\u001b[0;31m                              win=self.win, units=self.units)\n\u001b[0m\u001b[1;32m    517\u001b[0m         \u001b[0mself\u001b[0m\u001b[0;34m.\u001b[0m\u001b[0m__dict__\u001b[0m\u001b[0;34m[\u001b[0m\u001b[0;34m'verticesPix'\u001b[0m\u001b[0;34m]\u001b[0m \u001b[0;34m=\u001b[0m \u001b[0mverts\u001b[0m\u001b[0;34m\u001b[0m\u001b[0m\n\u001b[1;32m    518\u001b[0m \u001b[0;34m\u001b[0m\u001b[0m\n",
      "\u001b[0;32m/Users/supadhy6/anaconda/envs/pbs-stats/lib/python3.5/site-packages/psychopy/tools/monitorunittools.py\u001b[0m in \u001b[0;36mconvertToPix\u001b[0;34m(vertices, pos, units, win)\u001b[0m\n\u001b[1;32m     93\u001b[0m     \u001b[0munit2pixFunc\u001b[0m \u001b[0;34m=\u001b[0m \u001b[0m_unit2PixMappings\u001b[0m\u001b[0;34m.\u001b[0m\u001b[0mget\u001b[0m\u001b[0;34m(\u001b[0m\u001b[0munits\u001b[0m\u001b[0;34m)\u001b[0m\u001b[0;34m\u001b[0m\u001b[0m\n\u001b[1;32m     94\u001b[0m     \u001b[0;32mif\u001b[0m \u001b[0munit2pixFunc\u001b[0m\u001b[0;34m:\u001b[0m\u001b[0;34m\u001b[0m\u001b[0m\n\u001b[0;32m---> 95\u001b[0;31m         \u001b[0;32mreturn\u001b[0m \u001b[0munit2pixFunc\u001b[0m\u001b[0;34m(\u001b[0m\u001b[0mvertices\u001b[0m\u001b[0;34m,\u001b[0m \u001b[0mpos\u001b[0m\u001b[0;34m,\u001b[0m \u001b[0mwin\u001b[0m\u001b[0;34m)\u001b[0m\u001b[0;34m\u001b[0m\u001b[0m\n\u001b[0m\u001b[1;32m     96\u001b[0m     \u001b[0;32melse\u001b[0m\u001b[0;34m:\u001b[0m\u001b[0;34m\u001b[0m\u001b[0m\n\u001b[1;32m     97\u001b[0m         \u001b[0mmsg\u001b[0m \u001b[0;34m=\u001b[0m \u001b[0;34m\"The unit type [{0}] is not registered with PsychoPy\"\u001b[0m\u001b[0;34m\u001b[0m\u001b[0m\n",
      "\u001b[0;32m/Users/supadhy6/anaconda/envs/pbs-stats/lib/python3.5/site-packages/psychopy/tools/monitorunittools.py\u001b[0m in \u001b[0;36m_deg2pix\u001b[0;34m(vertices, pos, win)\u001b[0m\n\u001b[1;32m     36\u001b[0m \u001b[0;34m\u001b[0m\u001b[0m\n\u001b[1;32m     37\u001b[0m \u001b[0;32mdef\u001b[0m \u001b[0m_deg2pix\u001b[0m\u001b[0;34m(\u001b[0m\u001b[0mvertices\u001b[0m\u001b[0;34m,\u001b[0m \u001b[0mpos\u001b[0m\u001b[0;34m,\u001b[0m \u001b[0mwin\u001b[0m\u001b[0;34m)\u001b[0m\u001b[0;34m:\u001b[0m\u001b[0;34m\u001b[0m\u001b[0m\n\u001b[0;32m---> 38\u001b[0;31m     \u001b[0;32mreturn\u001b[0m \u001b[0mdeg2pix\u001b[0m\u001b[0;34m(\u001b[0m\u001b[0mpos\u001b[0m \u001b[0;34m+\u001b[0m \u001b[0mvertices\u001b[0m\u001b[0;34m,\u001b[0m \u001b[0mwin\u001b[0m\u001b[0;34m.\u001b[0m\u001b[0mmonitor\u001b[0m\u001b[0;34m)\u001b[0m\u001b[0;34m\u001b[0m\u001b[0m\n\u001b[0m\u001b[1;32m     39\u001b[0m \u001b[0m_unit2PixMappings\u001b[0m\u001b[0;34m[\u001b[0m\u001b[0;34m'deg'\u001b[0m\u001b[0;34m]\u001b[0m \u001b[0;34m=\u001b[0m \u001b[0m_deg2pix\u001b[0m\u001b[0;34m\u001b[0m\u001b[0m\n\u001b[1;32m     40\u001b[0m \u001b[0m_unit2PixMappings\u001b[0m\u001b[0;34m[\u001b[0m\u001b[0;34m'degs'\u001b[0m\u001b[0;34m]\u001b[0m \u001b[0;34m=\u001b[0m \u001b[0m_deg2pix\u001b[0m\u001b[0;34m\u001b[0m\u001b[0m\n",
      "\u001b[0;32m/Users/supadhy6/anaconda/envs/pbs-stats/lib/python3.5/site-packages/psychopy/tools/monitorunittools.py\u001b[0m in \u001b[0;36mdeg2pix\u001b[0;34m(degrees, monitor, correctFlat)\u001b[0m\n\u001b[1;32m    247\u001b[0m     \u001b[0;32mif\u001b[0m \u001b[0mscrSizePix\u001b[0m \u001b[0;32mis\u001b[0m \u001b[0;32mNone\u001b[0m\u001b[0;34m:\u001b[0m\u001b[0;34m\u001b[0m\u001b[0m\n\u001b[1;32m    248\u001b[0m         \u001b[0mmsg\u001b[0m \u001b[0;34m=\u001b[0m \u001b[0;34m\"Monitor %s has no known size in pixels (SEE MONITOR CENTER)\"\u001b[0m\u001b[0;34m\u001b[0m\u001b[0m\n\u001b[0;32m--> 249\u001b[0;31m         \u001b[0;32mraise\u001b[0m \u001b[0mValueError\u001b[0m\u001b[0;34m(\u001b[0m\u001b[0mmsg\u001b[0m \u001b[0;34m%\u001b[0m \u001b[0mmonitor\u001b[0m\u001b[0;34m.\u001b[0m\u001b[0mname\u001b[0m\u001b[0;34m)\u001b[0m\u001b[0;34m\u001b[0m\u001b[0m\n\u001b[0m\u001b[1;32m    250\u001b[0m     \u001b[0;32mif\u001b[0m \u001b[0mscrWidthCm\u001b[0m \u001b[0;32mis\u001b[0m \u001b[0;32mNone\u001b[0m\u001b[0;34m:\u001b[0m\u001b[0;34m\u001b[0m\u001b[0m\n\u001b[1;32m    251\u001b[0m         \u001b[0mmsg\u001b[0m \u001b[0;34m=\u001b[0m \u001b[0;34m\"Monitor %s has no known width in cm (SEE MONITOR CENTER)\"\u001b[0m\u001b[0;34m\u001b[0m\u001b[0m\n",
      "\u001b[0;31mValueError\u001b[0m: Monitor __blank__ has no known size in pixels (SEE MONITOR CENTER)"
     ]
    }
   ],
   "source": [
    "win = visual.Window(units='pix')\n",
    "\n",
    "num_check = 360\n",
    "check_size = [10, 10]\n",
    "\n",
    "location = [0, 0]\n",
    "# generate loc array\n",
    "loc = np.array(location) + np.array(check_size) // 2\n",
    "\n",
    "# array of rgbs for each element (2D)\n",
    "\n",
    "colors = np.random.random((num_check ** 2, 3))\n",
    "\n",
    "# array of coordinates for each element\n",
    "xys = []\n",
    "# populate xys\n",
    "low, high = num_check // -2, num_check // 2\n",
    "\n",
    "for y in range(low, high):\n",
    "    for x in range(low, high):\n",
    "        xys.append((check_size[0] * math.cos(x),\n",
    "                    check_size[1] * math.sin(y)))\n",
    "\n",
    "loop_radius = 10\n",
    "n_circ = 300\n",
    "interval_dur = 1                    # duration (in sec) of target time interval\n",
    "angle_ratio = 360/float(interval_dur)\n",
    "tolerances = 0.125                   # allowed error in sec on EACH side\n",
    "\n",
    "circ_angles = np.linspace(-90,270,n_circ)\n",
    "circ_X, circ_Y = pol2cart(circ_angles,[loop_radius] * n_circ)\n",
    "stim = visual.ShapeStim(win, units = 'pix',vertices = tuple(zip(circ_X,circ_Y)),\n",
    "                       lineColor='white',lineColorSpace='rgb', lineWidth = 1.5)\n",
    "stim.draw()\n",
    "win.flip()"
   ]
  },
  {
   "cell_type": "code",
   "execution_count": 5,
   "metadata": {
    "collapsed": false
   },
   "outputs": [],
   "source": []
  },
  {
   "cell_type": "code",
   "execution_count": null,
   "metadata": {
    "collapsed": false
   },
   "outputs": [],
   "source": []
  },
  {
   "cell_type": "code",
   "execution_count": null,
   "metadata": {
    "collapsed": true
   },
   "outputs": [],
   "source": []
  }
 ],
 "metadata": {
  "anaconda-cloud": {},
  "kernelspec": {
   "display_name": "Python [conda env:pbs-stats]",
   "language": "python",
   "name": "conda-env-pbs-stats-py"
  },
  "language_info": {
   "codemirror_mode": {
    "name": "ipython",
    "version": 3
   },
   "file_extension": ".py",
   "mimetype": "text/x-python",
   "name": "python",
   "nbconvert_exporter": "python",
   "pygments_lexer": "ipython3",
   "version": "3.5.2"
  }
 },
 "nbformat": 4,
 "nbformat_minor": 1
}
